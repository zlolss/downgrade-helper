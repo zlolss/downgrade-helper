{
 "cells": [
  {
   "cell_type": "code",
   "execution_count": 1,
   "id": "580fa4f2-11ed-442d-99fd-6b3dfa4956ab",
   "metadata": {},
   "outputs": [],
   "source": [
    "# yay -S downgrade"
   ]
  },
  {
   "cell_type": "code",
   "execution_count": 2,
   "id": "cf856565-9f8f-4103-99e5-141c449f2e84",
   "metadata": {},
   "outputs": [],
   "source": [
    "packages_str = '''\n",
    "1) qt6-3d  2) qt6-5compat  3) qt6-base\n",
    "   4) qt6-charts  5) qt6-connectivity  6) qt6-datavis3d\n",
    "   7) qt6-declarative  8) qt6-doc  9) qt6-examples\n",
    "   10) qt6-graphs  11) qt6-grpc  12) qt6-httpserver\n",
    "   13) qt6-imageformats  14) qt6-languageserver\n",
    "   15) qt6-location  16) qt6-lottie  17) qt6-multimedia\n",
    "   18) qt6-networkauth  19) qt6-positioning\n",
    "   20) qt6-quick3d  21) qt6-quick3dphysics\n",
    "   22) qt6-quickeffectmaker  23) qt6-quicktimeline\n",
    "   24) qt6-remoteobjects  25) qt6-scxml\n",
    "   26) qt6-sensors  27) qt6-serialbus\n",
    "   28) qt6-serialport  29) qt6-shadertools\n",
    "   30) qt6-speech  31) qt6-svg  32) qt6-tools\n",
    "   33) qt6-translations  34) qt6-virtualkeyboard\n",
    "   35) qt6-wayland  36) qt6-webchannel\n",
    "   37) qt6-webengine  38) qt6-websockets\n",
    "   39) qt6-webview\n",
    "   \n",
    "   '''"
   ]
  },
  {
   "cell_type": "code",
   "execution_count": 3,
   "id": "14ece68e-b9cd-4e2b-ba3a-81feffa002a9",
   "metadata": {},
   "outputs": [],
   "source": [
    "cached_version = '~^6.7.0'"
   ]
  },
  {
   "cell_type": "code",
   "execution_count": 4,
   "id": "9747bff1-158b-4451-ab57-7f56d5ba4043",
   "metadata": {},
   "outputs": [],
   "source": [
    "skip_str = '''\n",
    "\n",
    "'''"
   ]
  },
  {
   "cell_type": "code",
   "execution_count": 5,
   "id": "4a49ef83-0776-4415-b5de-478a48828d5c",
   "metadata": {},
   "outputs": [
    {
     "name": "stdout",
     "output_type": "stream",
     "text": [
      "total:39 packages\n",
      "['qt5-3d', 'qt5-base', 'qt5-charts', 'qt5-connectivity', 'qt5-datavis3d', 'qt5-declarative', 'qt5-doc', 'qt5-examples', 'qt5-gamepad', 'qt5-graphicaleffects', 'qt5-imageformats', 'qt5-location', 'qt5-lottie', 'qt5-multimedia', 'qt5-networkauth', 'qt5-purchasing', 'qt5-quick3d', 'qt5-quickcontrols', 'qt5-quickcontrols2', 'qt5-quicktimeline', 'qt5-remoteobjects', 'qt5-script', 'qt5-scxml', 'qt5-sensors', 'qt5-serialbus', 'qt5-serialport', 'qt5-speech', 'qt5-svg', 'qt5-tools', 'qt5-translations', 'qt5-virtualkeyboard', 'qt5-wayland', 'qt5-webchannel', 'qt5-webengine', 'qt5-webglplugin', 'qt5-websockets', 'qt5-webview', 'qt5-x11extras', 'qt5-xmlpatterns']\n"
     ]
    }
   ],
   "source": [
    "items = packages_str.split()\n",
    "package_list = [item for item in items if len(item.strip())>0 and item.strip()[-1]!=')']\n",
    "print(f'total:{len(package_list)} packages\\n{package_list}')"
   ]
  },
  {
   "cell_type": "code",
   "execution_count": 6,
   "id": "ecfb3fae-7675-4b94-ac8e-9c97632648c3",
   "metadata": {},
   "outputs": [
    {
     "name": "stdout",
     "output_type": "stream",
     "text": [
      "skipped:22\n",
      "['qt5-3d', 'qt5-charts', 'qt5-connectivity', 'qt5-datavis3d', 'qt5-doc', 'qt5-examples', 'qt5-gamepad', 'qt5-imageformats', 'qt5-lottie', 'qt5-networkauth', 'qt5-purchasing', 'qt5-quick3d', 'qt5-quicktimeline', 'qt5-remoteobjects', 'qt5-script', 'qt5-scxml', 'qt5-serialbus', 'qt5-serialport', 'qt5-virtualkeyboard', 'qt5-webengine', 'qt5-webglplugin', 'qt5-websockets']\n"
     ]
    }
   ],
   "source": [
    "skips = [item for item in skip_str.split() if item in package_list]\n",
    "print(f'skipped:{len(skips)}\\n{skips}')\n",
    "package_list_skipped = [item for item in package_list if item not in skips]"
   ]
  },
  {
   "cell_type": "code",
   "execution_count": 7,
   "id": "bee2e6af-a700-4ab1-8f45-399f1af1e406",
   "metadata": {},
   "outputs": [
    {
     "name": "stdout",
     "output_type": "stream",
     "text": [
      "downgrade --cached-only 'qt5-base=~^5.15.12' 'qt5-declarative=~^5.15.12' 'qt5-graphicaleffects=~^5.15.12' 'qt5-location=~^5.15.12' 'qt5-multimedia=~^5.15.12' 'qt5-quickcontrols=~^5.15.12' 'qt5-quickcontrols2=~^5.15.12' 'qt5-sensors=~^5.15.12' 'qt5-speech=~^5.15.12' 'qt5-svg=~^5.15.12' 'qt5-tools=~^5.15.12' 'qt5-translations=~^5.15.12' 'qt5-wayland=~^5.15.12' 'qt5-webchannel=~^5.15.12' 'qt5-webview=~^5.15.12' 'qt5-x11extras=~^5.15.12' 'qt5-xmlpatterns=~^5.15.12'\n"
     ]
    }
   ],
   "source": [
    "# generate cmd\n",
    "cmds = [f'\\'{item}={cached_version}\\'' for item in package_list_skipped]\n",
    "cmd = f'downgrade --cached-only {\" \".join(cmds)}'\n",
    "print(cmd)"
   ]
  },
  {
   "cell_type": "code",
   "execution_count": null,
   "id": "3b135b63-6cba-48df-b839-2ac1cc19682f",
   "metadata": {},
   "outputs": [],
   "source": []
  }
 ],
 "metadata": {
  "kernelspec": {
   "display_name": "Python 3 (ipykernel)",
   "language": "python",
   "name": "python3"
  },
  "language_info": {
   "codemirror_mode": {
    "name": "ipython",
    "version": 3
   },
   "file_extension": ".py",
   "mimetype": "text/x-python",
   "name": "python",
   "nbconvert_exporter": "python",
   "pygments_lexer": "ipython3",
   "version": "3.11.8"
  }
 },
 "nbformat": 4,
 "nbformat_minor": 5
}
