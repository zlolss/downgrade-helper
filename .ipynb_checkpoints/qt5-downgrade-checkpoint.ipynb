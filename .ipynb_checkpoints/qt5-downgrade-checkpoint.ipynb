{
 "cells": [
  {
   "cell_type": "code",
   "execution_count": 1,
   "id": "580fa4f2-11ed-442d-99fd-6b3dfa4956ab",
   "metadata": {},
   "outputs": [],
   "source": [
    "# yay -S downgrade"
   ]
  },
  {
   "cell_type": "code",
   "execution_count": 2,
   "id": "cf856565-9f8f-4103-99e5-141c449f2e84",
   "metadata": {},
   "outputs": [],
   "source": [
    "packages_str = '''\n",
    "1) qt5-3d  2) qt5-base  3) qt5-charts\n",
    "   4) qt5-connectivity  5) qt5-datavis3d\n",
    "   6) qt5-declarative  7) qt5-doc  8) qt5-examples\n",
    "   9) qt5-gamepad  10) qt5-graphicaleffects\n",
    "   11) qt5-imageformats  12) qt5-location\n",
    "   13) qt5-lottie  14) qt5-multimedia\n",
    "   15) qt5-networkauth  16) qt5-purchasing\n",
    "   17) qt5-quick3d  18) qt5-quickcontrols\n",
    "   19) qt5-quickcontrols2  20) qt5-quicktimeline\n",
    "   21) qt5-remoteobjects  22) qt5-script  23) qt5-scxml\n",
    "   24) qt5-sensors  25) qt5-serialbus\n",
    "   26) qt5-serialport  27) qt5-speech  28) qt5-svg\n",
    "   29) qt5-tools  30) qt5-translations\n",
    "   31) qt5-virtualkeyboard  32) qt5-wayland\n",
    "   33) qt5-webchannel  34) qt5-webengine\n",
    "   35) qt5-webglplugin  36) qt5-websockets\n",
    "   37) qt5-webview  38) qt5-x11extras\n",
    "   39) qt5-xmlpatterns\n",
    "   \n",
    "   '''"
   ]
  },
  {
   "cell_type": "code",
   "execution_count": 3,
   "id": "14ece68e-b9cd-4e2b-ba3a-81feffa002a9",
   "metadata": {},
   "outputs": [],
   "source": [
    "cached_version = '~^5.15.12'"
   ]
  },
  {
   "cell_type": "code",
   "execution_count": 4,
   "id": "9747bff1-158b-4451-ab57-7f56d5ba4043",
   "metadata": {},
   "outputs": [],
   "source": [
    "skip_str = '''\n",
    "未找到结果\n",
    "无法降级 qt5-3d\n",
    "未找到结果\n",
    "无法降级 qt5-charts\n",
    "未找到结果\n",
    "无法降级 qt5-connectivity\n",
    "未找到结果\n",
    "无法降级 qt5-datavis3d\n",
    "未找到结果\n",
    "无法降级 qt5-doc\n",
    "未找到结果\n",
    "无法降级 qt5-examples\n",
    "未找到结果\n",
    "无法降级 qt5-gamepad\n",
    "未找到结果\n",
    "无法降级 qt5-imageformats\n",
    "未找到结果\n",
    "无法降级 qt5-lottie\n",
    "未找到结果\n",
    "无法降级 qt5-networkauth\n",
    "未找到结果\n",
    "无法降级 qt5-purchasing\n",
    "未找到结果\n",
    "无法降级 qt5-quick3d\n",
    "未找到结果\n",
    "无法降级 qt5-quicktimeline\n",
    "未找到结果\n",
    "无法降级 qt5-remoteobjects\n",
    "未找到结果\n",
    "无法降级 qt5-script\n",
    "未找到结果\n",
    "无法降级 qt5-scxml\n",
    "未找到结果\n",
    "无法降级 qt5-serialbus\n",
    "未找到结果\n",
    "无法降级 qt5-serialport\n",
    "未找到结果\n",
    "无法降级 qt5-virtualkeyboard\n",
    "未找到结果\n",
    "无法降级 qt5-webengine\n",
    "未找到结果\n",
    "无法降级 qt5-webglplugin\n",
    "未找到结果\n",
    "无法降级 qt5-websockets\n",
    "\n",
    "'''"
   ]
  },
  {
   "cell_type": "code",
   "execution_count": 5,
   "id": "4a49ef83-0776-4415-b5de-478a48828d5c",
   "metadata": {},
   "outputs": [
    {
     "name": "stdout",
     "output_type": "stream",
     "text": [
      "total:39 packages\n",
      "['qt5-3d', 'qt5-base', 'qt5-charts', 'qt5-connectivity', 'qt5-datavis3d', 'qt5-declarative', 'qt5-doc', 'qt5-examples', 'qt5-gamepad', 'qt5-graphicaleffects', 'qt5-imageformats', 'qt5-location', 'qt5-lottie', 'qt5-multimedia', 'qt5-networkauth', 'qt5-purchasing', 'qt5-quick3d', 'qt5-quickcontrols', 'qt5-quickcontrols2', 'qt5-quicktimeline', 'qt5-remoteobjects', 'qt5-script', 'qt5-scxml', 'qt5-sensors', 'qt5-serialbus', 'qt5-serialport', 'qt5-speech', 'qt5-svg', 'qt5-tools', 'qt5-translations', 'qt5-virtualkeyboard', 'qt5-wayland', 'qt5-webchannel', 'qt5-webengine', 'qt5-webglplugin', 'qt5-websockets', 'qt5-webview', 'qt5-x11extras', 'qt5-xmlpatterns']\n"
     ]
    }
   ],
   "source": [
    "items = packages_str.split()\n",
    "package_list = [item for item in items if len(item.strip())>0 and item.strip()[-1]!=')']\n",
    "print(f'total:{len(package_list)} packages\\n{package_list}')"
   ]
  },
  {
   "cell_type": "code",
   "execution_count": 6,
   "id": "ecfb3fae-7675-4b94-ac8e-9c97632648c3",
   "metadata": {},
   "outputs": [
    {
     "name": "stdout",
     "output_type": "stream",
     "text": [
      "skipped:22\n",
      "['qt5-3d', 'qt5-charts', 'qt5-connectivity', 'qt5-datavis3d', 'qt5-doc', 'qt5-examples', 'qt5-gamepad', 'qt5-imageformats', 'qt5-lottie', 'qt5-networkauth', 'qt5-purchasing', 'qt5-quick3d', 'qt5-quicktimeline', 'qt5-remoteobjects', 'qt5-script', 'qt5-scxml', 'qt5-serialbus', 'qt5-serialport', 'qt5-virtualkeyboard', 'qt5-webengine', 'qt5-webglplugin', 'qt5-websockets']\n"
     ]
    }
   ],
   "source": [
    "skips = [item for item in skip_str.split() if item in package_list]\n",
    "print(f'skipped:{len(skips)}\\n{skips}')\n",
    "package_list_skipped = [item for item in package_list if item not in skips]"
   ]
  },
  {
   "cell_type": "code",
   "execution_count": 7,
   "id": "bee2e6af-a700-4ab1-8f45-399f1af1e406",
   "metadata": {},
   "outputs": [
    {
     "name": "stdout",
     "output_type": "stream",
     "text": [
      "downgrade --cached-only 'qt5-base=~^5.15.12' 'qt5-declarative=~^5.15.12' 'qt5-graphicaleffects=~^5.15.12' 'qt5-location=~^5.15.12' 'qt5-multimedia=~^5.15.12' 'qt5-quickcontrols=~^5.15.12' 'qt5-quickcontrols2=~^5.15.12' 'qt5-sensors=~^5.15.12' 'qt5-speech=~^5.15.12' 'qt5-svg=~^5.15.12' 'qt5-tools=~^5.15.12' 'qt5-translations=~^5.15.12' 'qt5-wayland=~^5.15.12' 'qt5-webchannel=~^5.15.12' 'qt5-webview=~^5.15.12' 'qt5-x11extras=~^5.15.12' 'qt5-xmlpatterns=~^5.15.12'\n"
     ]
    }
   ],
   "source": [
    "# generate cmd\n",
    "cmds = [f'\\'{item}={cached_version}\\'' for item in package_list_skipped]\n",
    "cmd = f'downgrade --cached-only {\" \".join(cmds)}'\n",
    "print(cmd)"
   ]
  },
  {
   "cell_type": "code",
   "execution_count": null,
   "id": "3b135b63-6cba-48df-b839-2ac1cc19682f",
   "metadata": {},
   "outputs": [],
   "source": []
  }
 ],
 "metadata": {
  "kernelspec": {
   "display_name": "Python 3 (ipykernel)",
   "language": "python",
   "name": "python3"
  },
  "language_info": {
   "codemirror_mode": {
    "name": "ipython",
    "version": 3
   },
   "file_extension": ".py",
   "mimetype": "text/x-python",
   "name": "python",
   "nbconvert_exporter": "python",
   "pygments_lexer": "ipython3",
   "version": "3.11.8"
  }
 },
 "nbformat": 4,
 "nbformat_minor": 5
}
